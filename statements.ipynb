{
  "nbformat": 4,
  "nbformat_minor": 0,
  "metadata": {
    "colab": {
      "provenance": [],
      "authorship_tag": "ABX9TyN0YsTkvPmsta2vHxxptPD6",
      "include_colab_link": true
    },
    "kernelspec": {
      "name": "python3",
      "display_name": "Python 3"
    },
    "language_info": {
      "name": "python"
    }
  },
  "cells": [
    {
      "cell_type": "markdown",
      "metadata": {
        "id": "view-in-github",
        "colab_type": "text"
      },
      "source": [
        "<a href=\"https://colab.research.google.com/github/BOOSTERLEL/pyfunctions/blob/main/statements.ipynb\" target=\"_parent\"><img src=\"https://colab.research.google.com/assets/colab-badge.svg\" alt=\"Open In Colab\"/></a>"
      ]
    },
    {
      "cell_type": "markdown",
      "source": [
        "## Learning Statements"
      ],
      "metadata": {
        "id": "JjL_x_i8NX1M"
      }
    },
    {
      "cell_type": "code",
      "source": [],
      "metadata": {
        "id": "ABb9URiwNTzU"
      },
      "execution_count": null,
      "outputs": []
    }
  ]
}